{
 "cells": [
  {
   "cell_type": "code",
   "execution_count": 1,
   "id": "8f2a1cef-9dd8-4274-8e4c-9f8039712463",
   "metadata": {},
   "outputs": [
    {
     "name": "stdout",
     "output_type": "stream",
     "text": [
      "x = 10\n",
      "y = 5\n"
     ]
    }
   ],
   "source": [
    "#Declare two variables, `x` and `y`, and assign them integer values. Swap the\n",
    "#values of these variables without using any temporary variable.\n",
    "\n",
    "x = 5\n",
    "y = 10\n",
    "\n",
    "# Swapping the values without using a temporary variable\n",
    "x, y = y, x\n",
    "\n",
    "print(\"x =\", x)\n",
    "print(\"y =\", y)\n"
   ]
  },
  {
   "cell_type": "code",
   "execution_count": 2,
   "id": "9a812d7c-a5a5-48db-99b7-560d513fdf8d",
   "metadata": {},
   "outputs": [
    {
     "name": "stdin",
     "output_type": "stream",
     "text": [
      "Enter the length of the rectangle:  10\n",
      "Enter the width of the rectangle:  25\n"
     ]
    },
    {
     "name": "stdout",
     "output_type": "stream",
     "text": [
      "The area of the rectangle is: 250.0\n"
     ]
    }
   ],
   "source": [
    "#Create a program that calculates the area of a rectangle. Take the length and\n",
    "#width as inputs from the user and store them in variables. Calculate and\n",
    "#display the area.\n",
    "\n",
    "length = float(input(\"Enter the length of the rectangle: \"))\n",
    "width = float(input(\"Enter the width of the rectangle: \"))\n",
    "\n",
    "# Calculating the area of the rectangle\n",
    "area = length * width\n",
    "\n",
    "print(\"The area of the rectangle is:\", area)\n"
   ]
  },
  {
   "cell_type": "code",
   "execution_count": 3,
   "id": "17a4ab6d-379f-4c69-a22f-d15b740596cc",
   "metadata": {},
   "outputs": [
    {
     "name": "stdin",
     "output_type": "stream",
     "text": [
      "Enter the temperature in Celsius:  33\n"
     ]
    },
    {
     "name": "stdout",
     "output_type": "stream",
     "text": [
      "The temperature in Fahrenheit is: 91.4\n"
     ]
    }
   ],
   "source": [
    "#Write a Python program that converts temperatures from Celsius to\n",
    "#Fahrenheit. Take the temperature in Celsius as input, store it in a variable,\n",
    "#convert it to Fahrenheit, and display the result.\n",
    "\n",
    "celsius = float(input(\"Enter the temperature in Celsius: \"))\n",
    "\n",
    "# Converting Celsius to Fahrenheit\n",
    "fahrenheit = (celsius * 9/5) + 32\n",
    "\n",
    "print(\"The temperature in Fahrenheit is:\", fahrenheit)"
   ]
  },
  {
   "cell_type": "code",
   "execution_count": 4,
   "id": "483aa4eb-50c2-4765-b647-d05777a4ccfc",
   "metadata": {},
   "outputs": [
    {
     "name": "stdin",
     "output_type": "stream",
     "text": [
      "Enter a string:  Hello World\n"
     ]
    },
    {
     "name": "stdout",
     "output_type": "stream",
     "text": [
      "The length of the string is: 11\n"
     ]
    }
   ],
   "source": [
    "#Write a Python program that takes a string as input and prints the length of\n",
    "#the string.\n",
    "string = input(\"Enter a string: \")\n",
    "\n",
    "# Calculating the length of the string\n",
    "length = len(string)\n",
    "\n",
    "print(\"The length of the string is:\", length)\n"
   ]
  },
  {
   "cell_type": "code",
   "execution_count": 5,
   "id": "fbbc6db9-0228-44b7-839f-0de33f39582d",
   "metadata": {},
   "outputs": [
    {
     "name": "stdin",
     "output_type": "stream",
     "text": [
      "Enter a sentence:  I love python programming\n"
     ]
    },
    {
     "name": "stdout",
     "output_type": "stream",
     "text": [
      "The number of vowels in the sentence is: 7\n"
     ]
    }
   ],
   "source": [
    "#Create a program that takes a sentence from the user and counts the number\n",
    "#of vowels (a, e, i, o, u) in the string.\n",
    "sentence = input(\"Enter a sentence: \")\n",
    "\n",
    "vowels = \"aeiou\"\n",
    "count = 0\n",
    "\n",
    "# Counting the number of vowels in the sentence\n",
    "for char in sentence:\n",
    "    if char.lower() in vowels:\n",
    "        count += 1\n",
    "\n",
    "print(\"The number of vowels in the sentence is:\", count)\n"
   ]
  },
  {
   "cell_type": "code",
   "execution_count": 6,
   "id": "5db23490-9816-47d6-8885-f97735a8a0dd",
   "metadata": {},
   "outputs": [
    {
     "name": "stdin",
     "output_type": "stream",
     "text": [
      "Enter a string:  nice day well spent\n"
     ]
    },
    {
     "name": "stdout",
     "output_type": "stream",
     "text": [
      "The reversed string is: tneps llew yad ecin\n"
     ]
    }
   ],
   "source": [
    "#Given a string, reverse the order of characters using string slicing and print\n",
    "#the reversed string.\n",
    "string = input(\"Enter a string: \")\n",
    "\n",
    "# Reversing the string using string slicing\n",
    "reversed_string = string[::-1]\n",
    "\n",
    "print(\"The reversed string is:\", reversed_string)"
   ]
  },
  {
   "cell_type": "code",
   "execution_count": 7,
   "id": "02cbe4c2-fd32-4104-90f3-454d1242a9ba",
   "metadata": {},
   "outputs": [
    {
     "name": "stdin",
     "output_type": "stream",
     "text": [
      "Enter a string:  H\\u00e9llo\n"
     ]
    },
    {
     "name": "stdout",
     "output_type": "stream",
     "text": [
      "The string is not a palindrome.\n"
     ]
    }
   ],
   "source": [
    "#Write a program that takes a string as input and checks if it is a palindrome\n",
    "#(reads the same forwards and backwards).\n",
    "string = input(\"Enter a string: \")\n",
    "\n",
    "# Checking if the string is a palindrome\n",
    "if string == string[::-1]:\n",
    "    print(\"The string is a palindrome.\")\n",
    "else:\n",
    "    print(\"The string is not a palindrome.\")\n",
    "    "
   ]
  },
  {
   "cell_type": "code",
   "execution_count": 8,
   "id": "7fa38b8f-a64b-4644-8029-f694a95dad48",
   "metadata": {},
   "outputs": [
    {
     "name": "stdin",
     "output_type": "stream",
     "text": [
      "Enter a string:  The string is not a palindrome\n"
     ]
    },
    {
     "name": "stdout",
     "output_type": "stream",
     "text": [
      "The modified string without spaces is: Thestringisnotapalindrome\n"
     ]
    }
   ],
   "source": [
    "#Create a program that takes a string as input and removes all the spaces from\n",
    "#it. Print the modified string without spaces.\n",
    "string = input(\"Enter a string: \")\n",
    "\n",
    "# Removing spaces from the string using the replace() function\n",
    "modified_string = string.replace(\" \", \"\")\n",
    "\n",
    "print(\"The modified string without spaces is:\", modified_string)\n"
   ]
  },
  {
   "cell_type": "code",
   "execution_count": null,
   "id": "c6633cd4-ae3e-41eb-add7-f35bc1deb009",
   "metadata": {},
   "outputs": [],
   "source": []
  }
 ],
 "metadata": {
  "kernelspec": {
   "display_name": "Python 3 (ipykernel)",
   "language": "python",
   "name": "python3"
  },
  "language_info": {
   "codemirror_mode": {
    "name": "ipython",
    "version": 3
   },
   "file_extension": ".py",
   "mimetype": "text/x-python",
   "name": "python",
   "nbconvert_exporter": "python",
   "pygments_lexer": "ipython3",
   "version": "3.10.8"
  }
 },
 "nbformat": 4,
 "nbformat_minor": 5
}
